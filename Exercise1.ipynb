{
 "cells": [
  {
   "cell_type": "code",
   "execution_count": 14,
   "metadata": {
    "collapsed": false
   },
   "outputs": [],
   "source": [
    "# A.Match_ends\n",
    "\n",
    "def match_ends(words):\n",
    "    cnt = 0\n",
    "    for word in words:\n",
    "        if len(word) > 1 and word[0] == word[-1]:\n",
    "            cnt += 1\n",
    "    \n",
    "    return cnt\n"
   ]
  },
  {
   "cell_type": "code",
   "execution_count": 7,
   "metadata": {
    "collapsed": false
   },
   "outputs": [],
   "source": [
    "# B.Front_x\n",
    "def front_x(words):\n",
    "    lista = []\n",
    "    listb = []\n",
    "    \n",
    "    for word in words:\n",
    "        if word.startswith('x'):\n",
    "            lista.append(word)\n",
    "        else:\n",
    "            listb.append(word)\n",
    "\n",
    "    return sorted (lista) + sorted(listb)"
   ]
  },
  {
   "cell_type": "code",
   "execution_count": 21,
   "metadata": {
    "collapsed": false
   },
   "outputs": [
    {
     "name": "stdout",
     "output_type": "stream",
     "text": [
      "match_ends\n",
      "  OK  got: 3 expected: 3\n",
      "  OK  got: 2 expected: 2\n",
      "  OK  got: 1 expected: 1\n",
      "\n",
      "front_x\n",
      "  OK  got: ['xaa', 'xzz', 'axx', 'bbb', 'ccc'] expected: ['xaa', 'xzz', 'axx', 'bbb', 'ccc']\n",
      "  OK  got: ['xaa', 'xcc', 'aaa', 'bbb', 'ccc'] expected: ['xaa', 'xcc', 'aaa', 'bbb', 'ccc']\n",
      "  OK  got: ['xanadu', 'xyz', 'aardvark', 'apple', 'mix'] expected: ['xanadu', 'xyz', 'aardvark', 'apple', 'mix']\n",
      "\n",
      "sort_last\n",
      "  OK  got: [(2, 1), (3, 2), (1, 3)] expected: [(2, 1), (3, 2), (1, 3)]\n",
      "  OK  got: [(3, 1), (1, 2), (2, 3)] expected: [(3, 1), (1, 2), (2, 3)]\n",
      "  OK  got: [(2, 2), (1, 3), (3, 4, 5), (1, 7)] expected: [(2, 2), (1, 3), (3, 4, 5), (1, 7)]\n"
     ]
    }
   ],
   "source": [
    "# C.sort_last\n",
    "def last(t): return t[-1]\n",
    "\n",
    "def sort_last(tuples):\n",
    "    return sorted(tuples, key= last)\n",
    "\n",
    "# Test Function\n",
    "def test(got, expected):\n",
    "    prefix = ' OK ' if got == expected else ' X '\n",
    "    print ' {} got: {!r} expected: {!r}' .format (prefix, got, expected)\n",
    "\n",
    "\n",
    "#Calls the above functions with interesting inputs.    \n",
    "\n",
    "def main():\n",
    "    print 'match_ends'\n",
    "    test(match_ends(['aba', 'xyz', 'aa', 'x', 'bbb']) , 3)\n",
    "    test(match_ends(['', 'x', 'xy', 'xyx', 'xx']) , 2)\n",
    "    test(match_ends(['aaa', 'be', 'abc', 'hello']) , 1)\n",
    "    \n",
    "    print\n",
    "    print 'front_x'\n",
    "    test (front_x(['bbb', 'ccc', 'axx', 'xzz', 'xaa']), \n",
    "         ['xaa', 'xzz', 'axx', 'bbb', 'ccc'])\n",
    "    test (front_x(['ccc', 'bbb', 'aaa', 'xcc', 'xaa']), \n",
    "         ['xaa', 'xcc', 'aaa', 'bbb', 'ccc'])\n",
    "    test (front_x(['mix', 'xyz', 'apple', 'xanadu', 'aardvark']), \n",
    "         ['xanadu', 'xyz', 'aardvark', 'apple', 'mix'])\n",
    "    print\n",
    "    print 'sort_last'\n",
    "    test(sort_last([(1, 3), (3, 2), (2, 1)]),\n",
    "        [(2, 1), (3, 2), (1, 3)])\n",
    "    test(sort_last([(2, 3), (1, 2), (3, 1)]),\n",
    "        [(3, 1), (1, 2), (2, 3)])   \n",
    "    test(sort_last([(1, 7), (1, 3), (3, 4, 5), (2, 2)]),\n",
    "        [(2, 2), (1, 3), (3, 4, 5), (1, 7)])    \n",
    "    \n",
    "    \n",
    "main()    "
   ]
  },
  {
   "cell_type": "code",
   "execution_count": 22,
   "metadata": {
    "collapsed": false
   },
   "outputs": [
    {
     "name": "stdout",
     "output_type": "stream",
     "text": [
      "remove_adjacent\n",
      "  OK  got: [1, 2, 3] expected: [1, 2, 3]\n",
      "  OK  got: [1, 3] expected: [1, 3]\n"
     ]
    }
   ],
   "source": [
    "#remove_adjacent\n",
    "\n",
    "def remove_adjacent(nums):\n",
    "    nodup = []\n",
    "    \n",
    "    for num in nums:\n",
    "        if not(num in nodup):\n",
    "            nodup.append(num)\n",
    "            \n",
    "    return nodup\n",
    "\n",
    "def main():\n",
    "    print 'remove_adjacent'\n",
    "    test(remove_adjacent([1,2,2,3]) ,[1,2,3])\n",
    "    test(remove_adjacent([1,3,3,3]) , [1,3])\n",
    "   \n",
    "main()\n",
    "    "
   ]
  },
  {
   "cell_type": "code",
   "execution_count": 25,
   "metadata": {
    "collapsed": false
   },
   "outputs": [
    {
     "name": "stdout",
     "output_type": "stream",
     "text": [
      "Linear_merge\n",
      "  OK  got: ['aa', 'bb', 'cc', 'xx', 'zz'] expected: ['aa', 'bb', 'cc', 'xx', 'zz']\n"
     ]
    }
   ],
   "source": [
    "#linear_merge\n",
    "\n",
    "def linear_merge(list1, list2):\n",
    "    a = sorted (list1) + sorted(list2)\n",
    "    b = sorted(a)\n",
    "    return b\n",
    "\n",
    "def main():\n",
    "    print 'Linear_merge'\n",
    "    test(linear_merge(['aa','xx','zz'], ['bb','cc']), ['aa','bb','cc','xx','zz'])\n",
    "\n",
    "main()"
   ]
  },
  {
   "cell_type": "code",
   "execution_count": null,
   "metadata": {
    "collapsed": true
   },
   "outputs": [],
   "source": []
  }
 ],
 "metadata": {
  "kernelspec": {
   "display_name": "Python 2",
   "language": "python",
   "name": "python2"
  },
  "language_info": {
   "codemirror_mode": {
    "name": "ipython",
    "version": 2
   },
   "file_extension": ".py",
   "mimetype": "text/x-python",
   "name": "python",
   "nbconvert_exporter": "python",
   "pygments_lexer": "ipython2",
   "version": "2.7.13"
  }
 },
 "nbformat": 4,
 "nbformat_minor": 2
}
