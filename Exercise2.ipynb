{
 "cells": [
  {
   "cell_type": "code",
   "execution_count": 13,
   "metadata": {
    "collapsed": false
   },
   "outputs": [],
   "source": [
    "#A.Donuts\n",
    "\n",
    "def donuts(count):\n",
    "    if count > 9:\n",
    "        out = 'many'\n",
    "    else:  \n",
    "        out = str(count)\n",
    "    return 'Number of donuts: ' + out"
   ]
  },
  {
   "cell_type": "code",
   "execution_count": 4,
   "metadata": {
    "collapsed": true
   },
   "outputs": [],
   "source": [
    "#B.Both_ends\n",
    "\n",
    "def both_ends(s):\n",
    "    if len(s) < 2 :\n",
    "        return ''\n",
    "    else:\n",
    "        out = s[0:2] + s[-2:]\n",
    "    return out"
   ]
  },
  {
   "cell_type": "code",
   "execution_count": 18,
   "metadata": {
    "collapsed": true
   },
   "outputs": [],
   "source": [
    "#C.Fix_start\n",
    "def fix_start(s):\n",
    "    cha = s[0]\n",
    "    length = len(s)\n",
    "    s = s.replace(cha,'*')\n",
    "    s = cha + s[1:]\n",
    "    return s\n"
   ]
  },
  {
   "cell_type": "code",
   "execution_count": 6,
   "metadata": {
    "collapsed": true
   },
   "outputs": [],
   "source": [
    "#D.Mix_up(a,b):\n",
    "def mix_up(a,b):\n",
    "    a_mix = b[:2] + a[2:]\n",
    "    b_mix = a[:2] + b[2:]\n",
    "    \n",
    "    return a_mix + ' ' + b_mix"
   ]
  },
  {
   "cell_type": "code",
   "execution_count": 7,
   "metadata": {
    "collapsed": true
   },
   "outputs": [],
   "source": [
    "def test(got, expected):\n",
    "    prefix = 'OK' if got == expected else ' X'\n",
    "    # !r prints a Python representation of the strings (complete with quotes)\n",
    "    print ' {} got: {!r} expected: {!r}'.format(prefix, got, expected)"
   ]
  },
  {
   "cell_type": "code",
   "execution_count": 19,
   "metadata": {
    "collapsed": false
   },
   "outputs": [
    {
     "name": "stdout",
     "output_type": "stream",
     "text": [
      "donuts\n",
      " OK got: 'Number of donuts: 4' expected: 'Number of donuts: 4'\n",
      " OK got: 'Number of donuts: 9' expected: 'Number of donuts: 9'\n",
      " OK got: 'Number of donuts: many' expected: 'Number of donuts: many'\n",
      " OK got: 'Number of donuts: many' expected: 'Number of donuts: many'\n",
      "\n",
      "both_ends\n",
      " OK got: 'spng' expected: 'spng'\n",
      " OK got: 'Helo' expected: 'Helo'\n",
      " OK got: '' expected: ''\n",
      " OK got: 'xyyz' expected: 'xyyz'\n",
      "\n",
      "fix_start\n",
      " OK got: 'ba**le' expected: 'ba**le'\n",
      " OK got: 'a*rdv*rk' expected: 'a*rdv*rk'\n",
      " OK got: 'goo*le' expected: 'goo*le'\n",
      " OK got: 'donut' expected: 'donut'\n",
      "\n",
      "mix_up\n",
      " OK got: 'pox mid' expected: 'pox mid'\n",
      " OK got: 'dig donner' expected: 'dig donner'\n",
      " OK got: 'spash gnort' expected: 'spash gnort'\n",
      " OK got: 'fizzy perm' expected: 'fizzy perm'\n"
     ]
    }
   ],
   "source": [
    "def main():\n",
    "    print 'donuts'\n",
    "    # Each line calls donuts, compares its result to the expected for that call.\n",
    "    test(donuts(4), 'Number of donuts: 4')\n",
    "    test(donuts(9), 'Number of donuts: 9')\n",
    "    test(donuts(10), 'Number of donuts: many')\n",
    "    test(donuts(99), 'Number of donuts: many')\n",
    "\n",
    "    print\n",
    "    print 'both_ends'\n",
    "    test(both_ends('spring'), 'spng')\n",
    "    test(both_ends('Hello'), 'Helo')\n",
    "    test(both_ends('a'), '')\n",
    "    test(both_ends('xyz'), 'xyyz')\n",
    "\n",
    "  \n",
    "    print\n",
    "    print 'fix_start'\n",
    "    test(fix_start('babble'), 'ba**le')\n",
    "    test(fix_start('aardvark'), 'a*rdv*rk')\n",
    "    test(fix_start('google'), 'goo*le')\n",
    "    test(fix_start('donut'), 'donut')\n",
    "\n",
    "    print\n",
    "    print 'mix_up'\n",
    "    test(mix_up('mix', 'pod'), 'pox mid')\n",
    "    test(mix_up('dog', 'dinner'), 'dig donner')\n",
    "    test(mix_up('gnash', 'sport'), 'spash gnort')\n",
    "    test(mix_up('pezzy', 'firm'), 'fizzy perm')\n",
    "\n",
    "main()"
   ]
  },
  {
   "cell_type": "code",
   "execution_count": 20,
   "metadata": {
    "collapsed": true
   },
   "outputs": [],
   "source": [
    "#D. Verbing\n",
    "\n",
    "def verbing(s):\n",
    "    length = len(s)\n",
    "    \n",
    "    if length > 2:\n",
    "        if s[-3:] == 'ing':\n",
    "            s += 'ly'\n",
    "        else:\n",
    "            s += 'ing'\n",
    "            \n",
    "    return s"
   ]
  },
  {
   "cell_type": "code",
   "execution_count": 21,
   "metadata": {
    "collapsed": true
   },
   "outputs": [],
   "source": [
    "#E. Not bad\n",
    "\n",
    "def not_bad(s):\n",
    "    snot = s.find('not')\n",
    "    sbad = s.find('bad')\n",
    "    \n",
    "    if sbad > snot:\n",
    "        s = s.replace(s[snot:(sbad+3)], 'good')\n",
    "        \n",
    "    return s"
   ]
  },
  {
   "cell_type": "code",
   "execution_count": 22,
   "metadata": {
    "collapsed": false
   },
   "outputs": [
    {
     "name": "stdout",
     "output_type": "stream",
     "text": [
      "verbing\n",
      " OK got: 'hailing' expected: 'hailing'\n",
      " OK got: 'swimingly' expected: 'swimingly'\n",
      " OK got: 'do' expected: 'do'\n",
      "\n",
      "not_bad\n",
      " OK got: 'This movie is good' expected: 'This movie is good'\n",
      " OK got: 'This dinner is good!' expected: 'This dinner is good!'\n",
      " OK got: 'This tea is not hot' expected: 'This tea is not hot'\n",
      " OK got: \"It's bad yet not\" expected: \"It's bad yet not\"\n"
     ]
    }
   ],
   "source": [
    "def main():\n",
    "    print 'verbing'\n",
    "    test(verbing('hail'), 'hailing')\n",
    "    test(verbing('swiming'), 'swimingly')\n",
    "    test(verbing('do'), 'do')\n",
    "    \n",
    "    print\n",
    "    print 'not_bad'\n",
    "    test(not_bad('This movie is not so bad'), 'This movie is good')\n",
    "    test(not_bad('This dinner is not that bad!'), 'This dinner is good!')\n",
    "    test(not_bad('This tea is not hot'), 'This tea is not hot')\n",
    "    test(not_bad(\"It's bad yet not\"), \"It's bad yet not\")\n",
    "main()"
   ]
  },
  {
   "cell_type": "code",
   "execution_count": null,
   "metadata": {
    "collapsed": true
   },
   "outputs": [],
   "source": []
  }
 ],
 "metadata": {
  "kernelspec": {
   "display_name": "Python 2",
   "language": "python",
   "name": "python2"
  },
  "language_info": {
   "codemirror_mode": {
    "name": "ipython",
    "version": 2
   },
   "file_extension": ".py",
   "mimetype": "text/x-python",
   "name": "python",
   "nbconvert_exporter": "python",
   "pygments_lexer": "ipython2",
   "version": "2.7.13"
  }
 },
 "nbformat": 4,
 "nbformat_minor": 2
}
